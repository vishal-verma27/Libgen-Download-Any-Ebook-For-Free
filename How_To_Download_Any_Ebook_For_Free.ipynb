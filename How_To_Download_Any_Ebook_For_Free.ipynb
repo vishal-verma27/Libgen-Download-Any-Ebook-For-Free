{
  "cells": [
    {
      "cell_type": "markdown",
      "metadata": {
        "id": "view-in-github",
        "colab_type": "text"
      },
      "source": [
        "<a href=\"https://colab.research.google.com/github/vishal-verma27/Libgen-Download-Any-Ebook-For-Free/blob/main/How_To_Download_Any_Ebook_For_Free.ipynb\" target=\"_parent\"><img src=\"https://colab.research.google.com/assets/colab-badge.svg\" alt=\"Open In Colab\"/></a>"
      ]
    },
    {
      "cell_type": "markdown",
      "metadata": {
        "id": "yVgNnlRYIPeW"
      },
      "source": [
        "## Import Necessary Libraries"
      ]
    },
    {
      "cell_type": "code",
      "execution_count": null,
      "metadata": {
        "id": "xL5MBu_OIPeb"
      },
      "outputs": [],
      "source": [
        "#install libgen-api\n",
        "!pip install libgen_api --quiet\n",
        "\n",
        "# import necessary Libraries\n",
        "from libgen_api import LibgenSearch\n",
        "import pandas as pd\n",
        "pd.set_option(\"max_colwidth\", None)"
      ]
    },
    {
      "cell_type": "markdown",
      "metadata": {
        "id": "mJ7ERKlRIPed"
      },
      "source": [
        "# Basic Searching : Search By Title Or Author\n",
        "---\n",
        "## Note: \n",
        "* All queries must be at least 3 characters long. This is to avoid any errors on the LibGen end (different mirrors have different requirements, but a minimum of 3 characters is the official limit).\n",
        "---\n",
        "### 1. By Title "
      ]
    },
    {
      "cell_type": "code",
      "execution_count": null,
      "metadata": {
        "id": "73OK0iSZIPed",
        "outputId": "9697f319-98b5-4696-94cb-9cea684b10b7"
      },
      "outputs": [
        {
          "data": {
            "text/html": [
              "<div>\n",
              "<style scoped>\n",
              "    .dataframe tbody tr th:only-of-type {\n",
              "        vertical-align: middle;\n",
              "    }\n",
              "\n",
              "    .dataframe tbody tr th {\n",
              "        vertical-align: top;\n",
              "    }\n",
              "\n",
              "    .dataframe thead th {\n",
              "        text-align: right;\n",
              "    }\n",
              "</style>\n",
              "<table border=\"1\" class=\"dataframe\">\n",
              "  <thead>\n",
              "    <tr style=\"text-align: right;\">\n",
              "      <th></th>\n",
              "      <th>0</th>\n",
              "      <th>1</th>\n",
              "    </tr>\n",
              "  </thead>\n",
              "  <tbody>\n",
              "    <tr>\n",
              "      <th>ID</th>\n",
              "      <td>263148</td>\n",
              "      <td>268944</td>\n",
              "    </tr>\n",
              "    <tr>\n",
              "      <th>Author</th>\n",
              "      <td>Susie Conklin,Sue Birtwistle</td>\n",
              "      <td>Jane Austen</td>\n",
              "    </tr>\n",
              "    <tr>\n",
              "      <th>Title</th>\n",
              "      <td>The Making of Pride and Prejudice</td>\n",
              "      <td>Pride and Prejudice</td>\n",
              "    </tr>\n",
              "    <tr>\n",
              "      <th>Publisher</th>\n",
              "      <td>Penguin (Non-Classics)</td>\n",
              "      <td>Saddleback Educational Publishing, Inc.</td>\n",
              "    </tr>\n",
              "    <tr>\n",
              "      <th>Year</th>\n",
              "      <td>2003</td>\n",
              "      <td>2003</td>\n",
              "    </tr>\n",
              "    <tr>\n",
              "      <th>Pages</th>\n",
              "      <td>130</td>\n",
              "      <td>81</td>\n",
              "    </tr>\n",
              "    <tr>\n",
              "      <th>Language</th>\n",
              "      <td>English</td>\n",
              "      <td>English</td>\n",
              "    </tr>\n",
              "    <tr>\n",
              "      <th>Size</th>\n",
              "      <td>14 Mb</td>\n",
              "      <td>957 Kb</td>\n",
              "    </tr>\n",
              "    <tr>\n",
              "      <th>Extension</th>\n",
              "      <td>pdf</td>\n",
              "      <td>pdf</td>\n",
              "    </tr>\n",
              "    <tr>\n",
              "      <th>Mirror_1</th>\n",
              "      <td>http://library.lol/main/BE9884DFAD35CF3C240B774E8810413B</td>\n",
              "      <td>http://library.lol/main/2EC14543EA6697679FD47C49FAE965E4</td>\n",
              "    </tr>\n",
              "    <tr>\n",
              "      <th>Mirror_2</th>\n",
              "      <td>http://libgen.lc/ads.php?md5=BE9884DFAD35CF3C240B774E8810413B</td>\n",
              "      <td>http://libgen.lc/ads.php?md5=2EC14543EA6697679FD47C49FAE965E4</td>\n",
              "    </tr>\n",
              "    <tr>\n",
              "      <th>Mirror_3</th>\n",
              "      <td>https://3lib.net/md5/BE9884DFAD35CF3C240B774E8810413B</td>\n",
              "      <td>https://3lib.net/md5/2EC14543EA6697679FD47C49FAE965E4</td>\n",
              "    </tr>\n",
              "    <tr>\n",
              "      <th>Mirror_4</th>\n",
              "      <td>https://libgen.pw/item?id=263148</td>\n",
              "      <td>https://libgen.pw/item?id=268944</td>\n",
              "    </tr>\n",
              "    <tr>\n",
              "      <th>Mirror_5</th>\n",
              "      <td>http://bookfi.net/md5/BE9884DFAD35CF3C240B774E8810413B</td>\n",
              "      <td>http://bookfi.net/md5/2EC14543EA6697679FD47C49FAE965E4</td>\n",
              "    </tr>\n",
              "    <tr>\n",
              "      <th>Edit</th>\n",
              "      <td>https://library.bz/main/edit/BE9884DFAD35CF3C240B774E8810413B</td>\n",
              "      <td>https://library.bz/main/edit/2EC14543EA6697679FD47C49FAE965E4</td>\n",
              "    </tr>\n",
              "  </tbody>\n",
              "</table>\n",
              "</div>"
            ],
            "text/plain": [
              "                                                                       0  \\\n",
              "ID                                                                263148   \n",
              "Author                                      Susie Conklin,Sue Birtwistle   \n",
              "Title                                  The Making of Pride and Prejudice   \n",
              "Publisher                                         Penguin (Non-Classics)   \n",
              "Year                                                                2003   \n",
              "Pages                                                                130   \n",
              "Language                                                         English   \n",
              "Size                                                               14 Mb   \n",
              "Extension                                                            pdf   \n",
              "Mirror_1        http://library.lol/main/BE9884DFAD35CF3C240B774E8810413B   \n",
              "Mirror_2   http://libgen.lc/ads.php?md5=BE9884DFAD35CF3C240B774E8810413B   \n",
              "Mirror_3           https://3lib.net/md5/BE9884DFAD35CF3C240B774E8810413B   \n",
              "Mirror_4                                https://libgen.pw/item?id=263148   \n",
              "Mirror_5          http://bookfi.net/md5/BE9884DFAD35CF3C240B774E8810413B   \n",
              "Edit       https://library.bz/main/edit/BE9884DFAD35CF3C240B774E8810413B   \n",
              "\n",
              "                                                                       1  \n",
              "ID                                                                268944  \n",
              "Author                                                       Jane Austen  \n",
              "Title                                                Pride and Prejudice  \n",
              "Publisher                        Saddleback Educational Publishing, Inc.  \n",
              "Year                                                                2003  \n",
              "Pages                                                                 81  \n",
              "Language                                                         English  \n",
              "Size                                                              957 Kb  \n",
              "Extension                                                            pdf  \n",
              "Mirror_1        http://library.lol/main/2EC14543EA6697679FD47C49FAE965E4  \n",
              "Mirror_2   http://libgen.lc/ads.php?md5=2EC14543EA6697679FD47C49FAE965E4  \n",
              "Mirror_3           https://3lib.net/md5/2EC14543EA6697679FD47C49FAE965E4  \n",
              "Mirror_4                                https://libgen.pw/item?id=268944  \n",
              "Mirror_5          http://bookfi.net/md5/2EC14543EA6697679FD47C49FAE965E4  \n",
              "Edit       https://library.bz/main/edit/2EC14543EA6697679FD47C49FAE965E4  "
            ]
          },
          "execution_count": 2,
          "metadata": {},
          "output_type": "execute_result"
        }
      ],
      "source": [
        "# By Title\n",
        "s = LibgenSearch()\n",
        "results = s.search_title(\"Pride and Prejudice\")\n",
        "\n",
        "# As the above output will be in JSON format so create a dataframe for the results\n",
        "#use json_normalize to create a dataframe using JSON value\n",
        "\n",
        "result_df = pd.json_normalize(results)\n",
        "pd.set_option(\"display.max_rows\",result_df.shape[0]+1)\n",
        "result_df.head(2).T"
      ]
    },
    {
      "cell_type": "markdown",
      "metadata": {
        "id": "Btt28BFeIPee"
      },
      "source": [
        "### 2. By Author"
      ]
    },
    {
      "cell_type": "code",
      "execution_count": null,
      "metadata": {
        "id": "NtGin6ZIIPef",
        "outputId": "b6a43c9b-9934-4b14-ffbc-cfae431fe7f9"
      },
      "outputs": [
        {
          "data": {
            "text/html": [
              "<div>\n",
              "<style scoped>\n",
              "    .dataframe tbody tr th:only-of-type {\n",
              "        vertical-align: middle;\n",
              "    }\n",
              "\n",
              "    .dataframe tbody tr th {\n",
              "        vertical-align: top;\n",
              "    }\n",
              "\n",
              "    .dataframe thead th {\n",
              "        text-align: right;\n",
              "    }\n",
              "</style>\n",
              "<table border=\"1\" class=\"dataframe\">\n",
              "  <thead>\n",
              "    <tr style=\"text-align: right;\">\n",
              "      <th></th>\n",
              "      <th>0</th>\n",
              "      <th>1</th>\n",
              "    </tr>\n",
              "  </thead>\n",
              "  <tbody>\n",
              "    <tr>\n",
              "      <th>ID</th>\n",
              "      <td>261367</td>\n",
              "      <td>261368</td>\n",
              "    </tr>\n",
              "    <tr>\n",
              "      <th>Author</th>\n",
              "      <td>Jane Austen,Margaret Drabble</td>\n",
              "      <td>Jane Austen,R. W. Chapman</td>\n",
              "    </tr>\n",
              "    <tr>\n",
              "      <th>Title</th>\n",
              "      <td>Persuasion</td>\n",
              "      <td>Lady Susan</td>\n",
              "    </tr>\n",
              "    <tr>\n",
              "      <th>Publisher</th>\n",
              "      <td>Signet Classics</td>\n",
              "      <td>Dover Publications</td>\n",
              "    </tr>\n",
              "    <tr>\n",
              "      <th>Year</th>\n",
              "      <td>1996</td>\n",
              "      <td>2005</td>\n",
              "    </tr>\n",
              "    <tr>\n",
              "      <th>Pages</th>\n",
              "      <td>221</td>\n",
              "      <td>71</td>\n",
              "    </tr>\n",
              "    <tr>\n",
              "      <th>Language</th>\n",
              "      <td>English</td>\n",
              "      <td>English</td>\n",
              "    </tr>\n",
              "    <tr>\n",
              "      <th>Size</th>\n",
              "      <td>520 Kb</td>\n",
              "      <td>254 Kb</td>\n",
              "    </tr>\n",
              "    <tr>\n",
              "      <th>Extension</th>\n",
              "      <td>pdf</td>\n",
              "      <td>pdf</td>\n",
              "    </tr>\n",
              "    <tr>\n",
              "      <th>Mirror_1</th>\n",
              "      <td>http://library.lol/main/9A69D873CB6C3A1FB071F00C1736BEA5</td>\n",
              "      <td>http://library.lol/main/E891648418CC8E1CCF31DE664CF14FC2</td>\n",
              "    </tr>\n",
              "    <tr>\n",
              "      <th>Mirror_2</th>\n",
              "      <td>http://libgen.lc/ads.php?md5=9A69D873CB6C3A1FB071F00C1736BEA5</td>\n",
              "      <td>http://libgen.lc/ads.php?md5=E891648418CC8E1CCF31DE664CF14FC2</td>\n",
              "    </tr>\n",
              "    <tr>\n",
              "      <th>Mirror_3</th>\n",
              "      <td>https://3lib.net/md5/9A69D873CB6C3A1FB071F00C1736BEA5</td>\n",
              "      <td>https://3lib.net/md5/E891648418CC8E1CCF31DE664CF14FC2</td>\n",
              "    </tr>\n",
              "    <tr>\n",
              "      <th>Mirror_4</th>\n",
              "      <td>https://libgen.pw/item?id=261367</td>\n",
              "      <td>https://libgen.pw/item?id=261368</td>\n",
              "    </tr>\n",
              "    <tr>\n",
              "      <th>Mirror_5</th>\n",
              "      <td>http://bookfi.net/md5/9A69D873CB6C3A1FB071F00C1736BEA5</td>\n",
              "      <td>http://bookfi.net/md5/E891648418CC8E1CCF31DE664CF14FC2</td>\n",
              "    </tr>\n",
              "    <tr>\n",
              "      <th>Edit</th>\n",
              "      <td>https://library.bz/main/edit/9A69D873CB6C3A1FB071F00C1736BEA5</td>\n",
              "      <td>https://library.bz/main/edit/E891648418CC8E1CCF31DE664CF14FC2</td>\n",
              "    </tr>\n",
              "  </tbody>\n",
              "</table>\n",
              "</div>"
            ],
            "text/plain": [
              "                                                                       0  \\\n",
              "ID                                                                261367   \n",
              "Author                                      Jane Austen,Margaret Drabble   \n",
              "Title                                                         Persuasion   \n",
              "Publisher                                                Signet Classics   \n",
              "Year                                                                1996   \n",
              "Pages                                                                221   \n",
              "Language                                                         English   \n",
              "Size                                                              520 Kb   \n",
              "Extension                                                            pdf   \n",
              "Mirror_1        http://library.lol/main/9A69D873CB6C3A1FB071F00C1736BEA5   \n",
              "Mirror_2   http://libgen.lc/ads.php?md5=9A69D873CB6C3A1FB071F00C1736BEA5   \n",
              "Mirror_3           https://3lib.net/md5/9A69D873CB6C3A1FB071F00C1736BEA5   \n",
              "Mirror_4                                https://libgen.pw/item?id=261367   \n",
              "Mirror_5          http://bookfi.net/md5/9A69D873CB6C3A1FB071F00C1736BEA5   \n",
              "Edit       https://library.bz/main/edit/9A69D873CB6C3A1FB071F00C1736BEA5   \n",
              "\n",
              "                                                                       1  \n",
              "ID                                                                261368  \n",
              "Author                                         Jane Austen,R. W. Chapman  \n",
              "Title                                                         Lady Susan  \n",
              "Publisher                                             Dover Publications  \n",
              "Year                                                                2005  \n",
              "Pages                                                                 71  \n",
              "Language                                                         English  \n",
              "Size                                                              254 Kb  \n",
              "Extension                                                            pdf  \n",
              "Mirror_1        http://library.lol/main/E891648418CC8E1CCF31DE664CF14FC2  \n",
              "Mirror_2   http://libgen.lc/ads.php?md5=E891648418CC8E1CCF31DE664CF14FC2  \n",
              "Mirror_3           https://3lib.net/md5/E891648418CC8E1CCF31DE664CF14FC2  \n",
              "Mirror_4                                https://libgen.pw/item?id=261368  \n",
              "Mirror_5          http://bookfi.net/md5/E891648418CC8E1CCF31DE664CF14FC2  \n",
              "Edit       https://library.bz/main/edit/E891648418CC8E1CCF31DE664CF14FC2  "
            ]
          },
          "execution_count": 3,
          "metadata": {},
          "output_type": "execute_result"
        }
      ],
      "source": [
        "# By Author\n",
        "s = LibgenSearch()\n",
        "results = s.search_author(\"Jane Austen\")\n",
        "\n",
        "# As the above output will be in JSON format so create a dataframe for the results\n",
        "#use json_normalize to create a dataframe using JSON value\n",
        "\n",
        "result_df = pd.json_normalize(results)\n",
        "pd.set_option(\"display.max_rows\",result_df.shape[0]+1)\n",
        "result_df.head(2).T"
      ]
    },
    {
      "cell_type": "markdown",
      "metadata": {
        "id": "H7QvrDHuIPeg"
      },
      "source": [
        "---\n",
        "# Filtered Searching\n",
        "* You can define a set of filters, and then use them to filter the search results that get returned.\n",
        "* By default, filtering will remove results that do not match the filters exactly (case-sensitive) -\n",
        "* This can be adjusted by setting exact_match=False when calling one of the filter methods,\n",
        "  which allows for case-insensitive and substring filtering.\n",
        "\n",
        "* Filter Fields\n",
        "* col_names =\n",
        "       [\"ID\",\n",
        "        \"Author\",\n",
        "        \"Title\",\n",
        "        \"Publisher\",\n",
        "        \"Year\",\n",
        "        \"Pages\",\n",
        "        \"Language\",\n",
        "        \"Size\",\n",
        "        \"Extension\",\n",
        "        \"Mirror_1\",\n",
        "        \"Mirror_2\",\n",
        "        \"Mirror_3\",\n",
        "        \"Mirror_4\",\n",
        "        \"Mirror_5\",\n",
        "        \"Edit\"]\n",
        "        \n",
        "---\n",
        "### 1. Filtered Title Searching"
      ]
    },
    {
      "cell_type": "code",
      "execution_count": null,
      "metadata": {
        "id": "VECwHb73IPeh",
        "outputId": "94393279-9b48-43c5-e6b8-3f294992c612"
      },
      "outputs": [
        {
          "data": {
            "text/plain": [
              "[{'ID': '436485',\n",
              "  'Author': 'Phyllis Ferguson Bottomer',\n",
              "  'Title': \"So Odd a Mixture: Along the Autistic Spectrum in 'Pride and Prejudice'\",\n",
              "  'Publisher': '',\n",
              "  'Year': '2007',\n",
              "  'Pages': '207[209]',\n",
              "  'Language': 'English',\n",
              "  'Size': '641 Kb',\n",
              "  'Extension': 'pdf',\n",
              "  'Mirror_1': 'http://library.lol/main/5BBB85A50E052F9570DB2BFBC1D3649D',\n",
              "  'Mirror_2': 'http://libgen.lc/ads.php?md5=5BBB85A50E052F9570DB2BFBC1D3649D',\n",
              "  'Mirror_3': 'https://3lib.net/md5/5BBB85A50E052F9570DB2BFBC1D3649D',\n",
              "  'Mirror_4': 'https://libgen.pw/item?id=436485',\n",
              "  'Mirror_5': 'http://bookfi.net/md5/5BBB85A50E052F9570DB2BFBC1D3649D',\n",
              "  'Edit': 'https://library.bz/main/edit/5BBB85A50E052F9570DB2BFBC1D3649D'}]"
            ]
          },
          "execution_count": 4,
          "metadata": {},
          "output_type": "execute_result"
        }
      ],
      "source": [
        "tf = LibgenSearch()\n",
        "title_filters = {\"Year\": \"2007\", \"Extension\": \"pdf\"}\n",
        "results = tf.search_title_filtered(\"Pride and Prejudice\", title_filters, exact_match=True)\n",
        "results"
      ]
    },
    {
      "cell_type": "markdown",
      "metadata": {
        "id": "E9zfEZ_cIPei"
      },
      "source": [
        "### 2. Filtered Author Searching"
      ]
    },
    {
      "cell_type": "code",
      "execution_count": null,
      "metadata": {
        "id": "tzYT9oZaIPei",
        "outputId": "2b8ed258-6605-46b5-dfed-18ca7136bacb"
      },
      "outputs": [
        {
          "data": {
            "text/plain": [
              "{'ID': '405547',\n",
              " 'Author': 'Agatha Christie',\n",
              " 'Title': 'Der blaue Express (Hachette Collections - Band 16)',\n",
              " 'Publisher': 'Hachette Collections',\n",
              " 'Year': '2009',\n",
              " 'Pages': '309',\n",
              " 'Language': 'German',\n",
              " 'Size': '2 Mb',\n",
              " 'Extension': 'pdf',\n",
              " 'Mirror_1': 'http://library.lol/main/80DD0D09890EFAD7233BDE897B517795',\n",
              " 'Mirror_2': 'http://libgen.lc/ads.php?md5=80DD0D09890EFAD7233BDE897B517795',\n",
              " 'Mirror_3': 'https://3lib.net/md5/80DD0D09890EFAD7233BDE897B517795',\n",
              " 'Mirror_4': 'https://libgen.pw/item?id=405547',\n",
              " 'Mirror_5': 'http://bookfi.net/md5/80DD0D09890EFAD7233BDE897B517795',\n",
              " 'Edit': 'https://library.bz/main/edit/80DD0D09890EFAD7233BDE897B517795'}"
            ]
          },
          "execution_count": 5,
          "metadata": {},
          "output_type": "execute_result"
        }
      ],
      "source": [
        "af = LibgenSearch()\n",
        "author_filters = {\"Language\": \"German\", \"Year\": \"2009\"}\n",
        "results = af.search_author_filtered(\"Agatha Christie\", author_filters, exact_match=True)\n",
        "results[0]"
      ]
    },
    {
      "cell_type": "markdown",
      "metadata": {
        "id": "5_rU3XHUIPej"
      },
      "source": [
        "### 3. Non-exact Filtered Searching"
      ]
    },
    {
      "cell_type": "code",
      "execution_count": null,
      "metadata": {
        "id": "G-Z5Vp0WIPej",
        "outputId": "e394640f-c776-4a95-a3a8-518b2078d8f4"
      },
      "outputs": [
        {
          "data": {
            "text/plain": [
              "{'ID': '393868',\n",
              " 'Author': 'Agatha Christie',\n",
              " 'Title': '4:50 From Paddington: A Miss Marple Mystery',\n",
              " 'Publisher': 'Black Dog & Leventhal Publishers',\n",
              " 'Year': '2007',\n",
              " 'Pages': '288[85]',\n",
              " 'Language': 'English',\n",
              " 'Size': '394 Kb',\n",
              " 'Extension': 'pdf',\n",
              " 'Mirror_1': 'http://library.lol/main/4D7C837C95CE3635F92A3F6967D696D7',\n",
              " 'Mirror_2': 'http://libgen.lc/ads.php?md5=4D7C837C95CE3635F92A3F6967D696D7',\n",
              " 'Mirror_3': 'https://3lib.net/md5/4D7C837C95CE3635F92A3F6967D696D7',\n",
              " 'Mirror_4': 'https://libgen.pw/item?id=393868',\n",
              " 'Mirror_5': 'http://bookfi.net/md5/4D7C837C95CE3635F92A3F6967D696D7',\n",
              " 'Edit': 'https://library.bz/main/edit/4D7C837C95CE3635F92A3F6967D696D7'}"
            ]
          },
          "execution_count": 6,
          "metadata": {},
          "output_type": "execute_result"
        }
      ],
      "source": [
        "ne_af = LibgenSearch()\n",
        "partial_filters = {\"Year\": \"200\"}\n",
        "results = ne_af.search_author_filtered(\"Agatha Christie\", partial_filters, exact_match=False)\n",
        "results[0]"
      ]
    },
    {
      "cell_type": "markdown",
      "metadata": {
        "id": "9EdAXPZoIPek"
      },
      "source": [
        "---\n",
        "# Convert The Mirror Links To Download Links\n",
        "---"
      ]
    },
    {
      "cell_type": "code",
      "execution_count": null,
      "metadata": {
        "id": "wRiZPF1CIPek",
        "outputId": "597950ab-39cc-424a-de65-5c036c842a72"
      },
      "outputs": [
        {
          "data": {
            "text/html": [
              "<div>\n",
              "<style scoped>\n",
              "    .dataframe tbody tr th:only-of-type {\n",
              "        vertical-align: middle;\n",
              "    }\n",
              "\n",
              "    .dataframe tbody tr th {\n",
              "        vertical-align: top;\n",
              "    }\n",
              "\n",
              "    .dataframe thead th {\n",
              "        text-align: right;\n",
              "    }\n",
              "</style>\n",
              "<table border=\"1\" class=\"dataframe\">\n",
              "  <thead>\n",
              "    <tr style=\"text-align: right;\">\n",
              "      <th></th>\n",
              "      <th>0</th>\n",
              "    </tr>\n",
              "  </thead>\n",
              "  <tbody>\n",
              "    <tr>\n",
              "      <th>GET</th>\n",
              "      <td>http://31.42.184.140/main/393000/4d7c837c95ce3635f92a3f6967d696d7/%28Agatha%20Christie%20Collection%29%20Agatha%20Christie%20-%204_50%20From%20Paddington_%20A%20Miss%20Marple%20Mystery%20-Black%20Dog%20%26%20Leventhal%20Publishers%20%282007%29.pdf</td>\n",
              "    </tr>\n",
              "    <tr>\n",
              "      <th>Cloudflare</th>\n",
              "      <td>https://cloudflare-ipfs.com/ipfs/bafykbzaceaco4dedvxtdoky3e7jyr662qdpmrmychf3cqtfric3hoi2ie3226?filename=%28Agatha%20Christie%20Collection%29%20Agatha%20Christie%20-%204_50%20From%20Paddington_%20A%20Miss%20Marple%20Mystery%20-Black%20Dog%20%26%20Leventhal%20Publishers%20%282007%29.pdf</td>\n",
              "    </tr>\n",
              "    <tr>\n",
              "      <th>IPFS.io</th>\n",
              "      <td>https://ipfs.io/ipfs/bafykbzaceaco4dedvxtdoky3e7jyr662qdpmrmychf3cqtfric3hoi2ie3226?filename=%28Agatha%20Christie%20Collection%29%20Agatha%20Christie%20-%204_50%20From%20Paddington_%20A%20Miss%20Marple%20Mystery%20-Black%20Dog%20%26%20Leventhal%20Publishers%20%282007%29.pdf</td>\n",
              "    </tr>\n",
              "    <tr>\n",
              "      <th>Infura</th>\n",
              "      <td>https://ipfs.infura.io/ipfs/bafykbzaceaco4dedvxtdoky3e7jyr662qdpmrmychf3cqtfric3hoi2ie3226?filename=%28Agatha%20Christie%20Collection%29%20Agatha%20Christie%20-%204_50%20From%20Paddington_%20A%20Miss%20Marple%20Mystery%20-Black%20Dog%20%26%20Leventhal%20Publishers%20%282007%29.pdf</td>\n",
              "    </tr>\n",
              "  </tbody>\n",
              "</table>\n",
              "</div>"
            ],
            "text/plain": [
              "                                                                                                                                                                                                                                                                                                         0\n",
              "GET                                                http://31.42.184.140/main/393000/4d7c837c95ce3635f92a3f6967d696d7/%28Agatha%20Christie%20Collection%29%20Agatha%20Christie%20-%204_50%20From%20Paddington_%20A%20Miss%20Marple%20Mystery%20-Black%20Dog%20%26%20Leventhal%20Publishers%20%282007%29.pdf\n",
              "Cloudflare  https://cloudflare-ipfs.com/ipfs/bafykbzaceaco4dedvxtdoky3e7jyr662qdpmrmychf3cqtfric3hoi2ie3226?filename=%28Agatha%20Christie%20Collection%29%20Agatha%20Christie%20-%204_50%20From%20Paddington_%20A%20Miss%20Marple%20Mystery%20-Black%20Dog%20%26%20Leventhal%20Publishers%20%282007%29.pdf\n",
              "IPFS.io                 https://ipfs.io/ipfs/bafykbzaceaco4dedvxtdoky3e7jyr662qdpmrmychf3cqtfric3hoi2ie3226?filename=%28Agatha%20Christie%20Collection%29%20Agatha%20Christie%20-%204_50%20From%20Paddington_%20A%20Miss%20Marple%20Mystery%20-Black%20Dog%20%26%20Leventhal%20Publishers%20%282007%29.pdf\n",
              "Infura           https://ipfs.infura.io/ipfs/bafykbzaceaco4dedvxtdoky3e7jyr662qdpmrmychf3cqtfric3hoi2ie3226?filename=%28Agatha%20Christie%20Collection%29%20Agatha%20Christie%20-%204_50%20From%20Paddington_%20A%20Miss%20Marple%20Mystery%20-Black%20Dog%20%26%20Leventhal%20Publishers%20%282007%29.pdf"
            ]
          },
          "execution_count": 7,
          "metadata": {},
          "output_type": "execute_result"
        }
      ],
      "source": [
        "item_to_download = results[0]\n",
        "download_links = ne_af.resolve_download_links(item_to_download)\n",
        "links = pd.json_normalize(download_links)\n",
        "links.T"
      ]
    },
    {
      "cell_type": "markdown",
      "metadata": {
        "id": "JKfC1mfeIPek"
      },
      "source": [
        "### Copy & Paste Any Of The Link Above To Download the Book"
      ]
    }
  ],
  "metadata": {
    "kernelspec": {
      "display_name": "Python 3",
      "language": "python",
      "name": "python3"
    },
    "language_info": {
      "codemirror_mode": {
        "name": "ipython",
        "version": 3
      },
      "file_extension": ".py",
      "mimetype": "text/x-python",
      "name": "python",
      "nbconvert_exporter": "python",
      "pygments_lexer": "ipython3",
      "version": "3.8.5"
    },
    "colab": {
      "name": "How To Download Any Ebook For Free.ipynb",
      "provenance": [],
      "include_colab_link": true
    }
  },
  "nbformat": 4,
  "nbformat_minor": 0
}